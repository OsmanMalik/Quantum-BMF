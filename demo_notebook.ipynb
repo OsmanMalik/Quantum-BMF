{
 "cells": [
  {
   "attachments": {},
   "cell_type": "markdown",
   "metadata": {},
   "source": [
    "# Binary matrix factorization using D-Wave's quantum annealer\n",
    "\n",
    "This notebook shows how to do binary matrix factorization (BMF) on D-Wave's \n",
    "quantum annealer. This is done by first formulating BMF as a quadratic \n",
    "unconstrained binary optimization (QUBO) problem, which is a type of problem \n",
    "that D-Wave's quantum annealer is designed to solve. The reformulation of BMF\n",
    "into a QUBO follows the techniques presented by \n",
    "[Malik et al. (2021)](#references).\n",
    "\n",
    "## Definition of binary matrix factorization\n",
    "\n",
    "Consider a binary matrix $\\bm A \\in \\{0,1\\}^{m \\times n}$. A rank-$r$ BMF of \n",
    "$\\bm A$ takes the form $\\bm A = \\bm U \\bm V^\\top$ where \n",
    "$\\bm U \\in \\{0,1\\}^{m \\times r}$ and $\\bm V \\in \\{0,1\\}^{n \\times r}$, and where \n",
    "the $\\bm U$ and $\\bm V^\\top$ are multiplied using standard matrix \n",
    "multiplication. Computing the rank-$r$ factorization of $\\bm A$ can be \n",
    "formulated as the optimization problem\n",
    "\n",
    "$$\\min_{\\bm U, \\bm V} \\| \\bm A - \\bm U \\bm V^\\top \\|_\\text{F}^2 \\qquad \n",
    "\\text{s.t.} \\quad \\bm U \\in \\{0,1\\}^{m \\times r}, \n",
    "\\; \\bm V \\in \\{0,1\\}^{n \\times r}.$$\n",
    "\n",
    "As shown by [Malik et al. (2021)](#references),\n",
    "this optimization problem can be reformulated into a QUBO which takes the form\n",
    "\n",
    "$$\\min_{\\bm x} \\bm x^\\top \\bm Q \\bm x \\qquad \n",
    "\\text{s.t.} \\quad \\bm x \\in \\{0,1\\}^k,$$\n",
    "\n",
    "where $\\bm Q \\in \\mathbb{R}^{k \\times k}$ and $k$ depends on the variables \n",
    "$m$, $n$, and $r$. Once a solution vector $\\bm x$ to the QUBO is computed, the\n",
    "corresponding solution matrices $\\bm U$ and $\\bm V$ can be extracted from it.\n",
    "[Malik et al. (2021)](#references) present two\n",
    "different ways to formulate the BMF problem as QUBO problems; see the paper\n",
    "for further details."
   ]
  },
  {
   "attachments": {},
   "cell_type": "markdown",
   "metadata": {},
   "source": [
    "## Solving a small BMF problem using the quantum annealer\n",
    "\n",
    "In this section, we run some tests on the small-scale BMF problem which appears \n",
    "in Example 1 by \n",
    "[Malik et al. (2021)](#references). Consider \n",
    "the matrix \n",
    "\n",
    "$$\\bm A = \n",
    "\\begin{bmatrix} \n",
    "    1 & 1 & 0 \\\\ \n",
    "    1 & 1 & 1 \\\\ \n",
    "    0 & 0 & 1 \n",
    "\\end{bmatrix}.$$\n",
    "\n",
    "A rank-2 BMF of this matrix is given by $\\bm A = \\bm U \\bm V^\\top$ where\n",
    "\n",
    "$$\\bm U = \n",
    "\\begin{bmatrix}\n",
    "    0 & 1 \\\\\n",
    "    1 & 1 \\\\\n",
    "    1 & 0\n",
    "\\end{bmatrix},\n",
    "\\qquad\n",
    "\\bm V = \n",
    "\\begin{bmatrix}\n",
    "    0 & 1 \\\\\n",
    "    0 & 1 \\\\\n",
    "    1 & 0\n",
    "\\end{bmatrix}.$$\n",
    "\n",
    "As a small starting example, we will decompose $\\bm A$.\n",
    "To that end, first define this matrix as a numpy array."
   ]
  },
  {
   "cell_type": "code",
   "execution_count": 11,
   "metadata": {},
   "outputs": [],
   "source": [
    "import numpy as np\n",
    "\n",
    "A = np.array([[1, 1, 0], [1, 1, 1], [0, 0, 1]])\n",
    "m, n = A.shape"
   ]
  },
  {
   "attachments": {},
   "cell_type": "markdown",
   "metadata": {},
   "source": [
    "Next, we use the functionality implemented in `qBMF` to formulate this as a QUBO\n",
    "problem. We will first solve the\n",
    "problem using D-Wave's simulated annealing sampler, which needs the QUBO to be \n",
    "provided in a dictionary format. In the code below, we return the QUBO \n",
    "corresponding to two different formulations."
   ]
  },
  {
   "cell_type": "code",
   "execution_count": 12,
   "metadata": {},
   "outputs": [],
   "source": [
    "import qBMF\n",
    "\n",
    "# Set target rank\n",
    "r = 2\n",
    "\n",
    "# Set value of penalty variable\n",
    "lam = 2.1*r*np.linalg.norm(A, ord='fro')**2\n",
    "\n",
    "# Compute QUBO in dictionary format\n",
    "qubo_dict_1 = qBMF.construct_BMF_BQM(A, r=r, lam=lam, format=\"dict\", formulation=1)\n",
    "qubo_dict_2 = qBMF.construct_BMF_BQM(A, r=r, lam=lam, format=\"dict\", formulation=2)"
   ]
  },
  {
   "attachments": {},
   "cell_type": "markdown",
   "metadata": {},
   "source": [
    "Next, we solve both QUBO problems using D-Wave's simulated annealing sampler."
   ]
  },
  {
   "cell_type": "code",
   "execution_count": 13,
   "metadata": {},
   "outputs": [
    {
     "name": "stdout",
     "output_type": "stream",
     "text": [
      "Squared Frobenius Norm of A: 5.999999999999999\n",
      "Best Energy 1st Formulation: -5.999999999999773\n",
      "Best Energy 2nd Formulation: -4.999999999999204\n",
      "Factorization Error 1st Formulation: 0.0\n",
      "Factorization Error 2nd Formulation: 1.0\n"
     ]
    }
   ],
   "source": [
    "from dwave.samplers import SimulatedAnnealingSampler\n",
    "\n",
    "# Construct sampler\n",
    "sampler = SimulatedAnnealingSampler()\n",
    "\n",
    "# Solve both problems using 1000 different samples each\n",
    "sampleset_1 = sampler.sample_qubo(qubo_dict_1, num_reads=1000) \n",
    "sampleset_2 = sampler.sample_qubo(qubo_dict_2, num_reads=1000)\n",
    "\n",
    "# Extract solution matrices and compute decomposition error\n",
    "U_1, V_1 = qBMF.extract_U_V(sampleset_1, m, n, r)\n",
    "U_2, V_2 = qBMF.extract_U_V(sampleset_2, m, n, r)\n",
    "er_1 = np.linalg.norm(A - U_1 @ np.transpose(V_1))**2\n",
    "er_2 = np.linalg.norm(A - U_2 @ np.transpose(V_2))**2\n",
    "\n",
    "# Print results\n",
    "print(\"Squared Frobenius Norm of A: {}\".format(np.linalg.norm(A)**2))\n",
    "print(\"Best Energy 1st Formulation: {}\".format(sampleset_1.first.energy))\n",
    "print(\"Best Energy 2nd Formulation: {}\".format(sampleset_2.first.energy))\n",
    "print(\"Factorization Error 1st Formulation: {}\".format(er_1))\n",
    "print(\"Factorization Error 2nd Formulation: {}\".format(er_2))"
   ]
  },
  {
   "attachments": {},
   "cell_type": "markdown",
   "metadata": {},
   "source": [
    "Since the solution generated by the annealing samplers are randomized, they may\n",
    "not produce the correct output. However, the solution computed above is \n",
    "typically correct when `num_reads=1000` samples are used.\n",
    "\n",
    "As noted in [Malik et al. (2021)](#references),\n",
    "when `lam` (called $\\lambda$ in the paper) is sufficiently large, if the \n",
    "solution $\\bm x$ satisfies $\\bm x^\\top \\bm Q \\bm x = -\\|\\bm A\\|_\\text{F}^2$, \n",
    "then we know that the optimal solution has been found. As we can see above (in \n",
    "most cases when the code is run), the best energy is equal to the negative of \n",
    "the square of the norm of $\\bm A$. Indeed, we see that this corresponds to zero\n",
    "error in the factorization.\n",
    "\n",
    "Next we will solve the problem above, but using D-Wave's quantum annealer \n",
    "instead. First, we compute the BQM representation of the BMF QUBO."
   ]
  },
  {
   "cell_type": "code",
   "execution_count": 14,
   "metadata": {},
   "outputs": [],
   "source": [
    "# Compute QUBO in dimod.BQM format\n",
    "qubo_bqm_1 = qBMF.construct_BMF_BQM(A, r=r, lam=lam, format=\"bqm\", formulation=1)\n",
    "qubo_bqm_2 = qBMF.construct_BMF_BQM(A, r=r, lam=lam, format=\"bqm\", formulation=2)"
   ]
  },
  {
   "attachments": {},
   "cell_type": "markdown",
   "metadata": {},
   "source": [
    "Next, we set up the quantum annealing solver."
   ]
  },
  {
   "cell_type": "code",
   "execution_count": 15,
   "metadata": {},
   "outputs": [
    {
     "name": "stdout",
     "output_type": "stream",
     "text": [
      "QPU Advantage_system4.1 was selected\n"
     ]
    }
   ],
   "source": [
    "from dwave.system import DWaveSampler, EmbeddingComposite\n",
    "\n",
    "# Prepare quantum sampler\n",
    "sampler = DWaveSampler()\n",
    "embedding_sampler = EmbeddingComposite(sampler)\n",
    "print(\"QPU {} was selected\".format(sampler.solver.name))"
   ]
  },
  {
   "attachments": {},
   "cell_type": "markdown",
   "metadata": {},
   "source": [
    "Finally, we solve the two QUBO formulations for BMF using D-Wave's sampler.  "
   ]
  },
  {
   "cell_type": "code",
   "execution_count": 16,
   "metadata": {},
   "outputs": [
    {
     "name": "stdout",
     "output_type": "stream",
     "text": [
      "Squared Frobenius Norm of A: 5.999999999999999\n",
      "Best Energy 1st Formulation: -4.999999999999972\n",
      "Best Energy 2nd Formulation: -4.999999999999943\n",
      "Factorization Error 1st Formulation: 1.0\n",
      "Factorization Error 2nd Formulation: 1.0\n"
     ]
    }
   ],
   "source": [
    "sampleset_1 = embedding_sampler.sample(qubo_bqm_1, num_reads=1000, \\\n",
    "    label=\"QUBO BMF formul 1\")\n",
    "sampleset_2 = embedding_sampler.sample(qubo_bqm_2, num_reads=1000, \\\n",
    "    label=\"QUBO BMF formul 2\")\n",
    "\n",
    "# Extract solution matrices and compute decomposition error\n",
    "U_1, V_1 = qBMF.extract_U_V(sampleset_1, m, n, r)\n",
    "U_2, V_2 = qBMF.extract_U_V(sampleset_2, m, n, r)\n",
    "er_1 = np.linalg.norm(A - U_1 @ np.transpose(V_1))**2\n",
    "er_2 = np.linalg.norm(A - U_2 @ np.transpose(V_2))**2\n",
    "\n",
    "# Print results\n",
    "print(\"Squared Frobenius Norm of A: {}\".format(np.linalg.norm(A)**2))\n",
    "print(\"Best Energy 1st Formulation: {}\".format(sampleset_1.first.energy))\n",
    "print(\"Best Energy 2nd Formulation: {}\".format(sampleset_2.first.energy))\n",
    "print(\"Factorization Error 1st Formulation: {}\".format(er_1))\n",
    "print(\"Factorization Error 2nd Formulation: {}\".format(er_2))"
   ]
  },
  {
   "attachments": {},
   "cell_type": "markdown",
   "metadata": {},
   "source": [
    "As with the simulated annealing sampler, the quantum annealing sampler may not\n",
    "always find the exact result. However, most of the time, the error should be \n",
    "zero."
   ]
  },
  {
   "attachments": {},
   "cell_type": "markdown",
   "metadata": {},
   "source": [
    "## Attempting to solve a larger BMF problem\n",
    "\n",
    "The problem in the previous section had the following number of binary \n",
    "parameters for each of the two QUBO formulations:\n",
    "\n",
    "- Formulation 1: $k = (m + n + mn)r = 30$\n",
    "- Formulation 2: $k = (m + n)(r + r^2) = 36$\n",
    "\n",
    "We will now try solving slightly larger problems. A binary matrix $A$ of a \n",
    "specific size and rank can be generated using `qBMF.generate_binary_matrix` as\n",
    "shown below."
   ]
  },
  {
   "cell_type": "code",
   "execution_count": 17,
   "metadata": {},
   "outputs": [
    {
     "name": "stdout",
     "output_type": "stream",
     "text": [
      "A is 10-by-8 and has a density of 0.375.\n",
      "No. binary variables for formulation 1: 392\n",
      "No. binary variables for formulation 2: 360\n"
     ]
    }
   ],
   "source": [
    "# Size and binary rank of new matrix\n",
    "m = 10\n",
    "n = 8\n",
    "r = 4\n",
    "\n",
    "# Generate matrix\n",
    "U, V = qBMF.generate_binary_matrix(m, n, r=r)\n",
    "A = U @ np.transpose(V)\n",
    "density = np.count_nonzero(A)/(m*n)\n",
    "print(\"A is {}-by-{} and has a density of {}.\".format(m, n, density))\n",
    "\n",
    "# Size of QUBO problems\n",
    "print(\"No. binary variables for formulation 1: {}\".format((m + n + m*n)*r))\n",
    "print(\"No. binary variables for formulation 2: {}\".format((m + n)*(r + r**2)))\n"
   ]
  },
  {
   "attachments": {},
   "cell_type": "markdown",
   "metadata": {},
   "source": [
    "These problems have about 10 times as many binary variables to solve for as the \n",
    "smaller problem in the previous section. \n",
    "As discussed in \n",
    "[Malik et al. (2021)](#references), using a smaller value of `lam` ($\\lambda$\n",
    "in the paper) can be a good idea when solving harder problems. Although this \n",
    "means that the QUBO solution doesn't necessarily correspond to the best BMF,\n",
    "it ends up\n",
    "making the optimization problem more well-behaved and ultimately making it \n",
    "easier to find a good approximate solution. With this in mind, and following the\n",
    "recommendation in [Malik et al. (2021)](#references), we set `lam=1` in the \n",
    "experiments below.\n",
    "\n",
    "We first attempt to solve them using the simulated annealing sampler. "
   ]
  },
  {
   "cell_type": "code",
   "execution_count": 18,
   "metadata": {},
   "outputs": [
    {
     "name": "stdout",
     "output_type": "stream",
     "text": [
      "Squared Frobenius Norm of A: 30.0\n",
      "Best Energy 1st Formulation: -30.0\n",
      "Best Energy 2nd Formulation: -134.0\n",
      "Factorization Error 1st Formulation: 0.0\n",
      "Factorization Error 2nd Formulation: 632.0\n"
     ]
    }
   ],
   "source": [
    "# Set value of penalty variable\n",
    "lam = 1\n",
    "\n",
    "# Compute QUBO in dictionary format\n",
    "qubo_dict_1 = qBMF.construct_BMF_BQM(A, r=r, lam=lam, format=\"dict\", formulation=1)\n",
    "qubo_dict_2 = qBMF.construct_BMF_BQM(A, r=r, lam=lam, format=\"dict\", formulation=2)\n",
    "\n",
    "# Construct sampler\n",
    "sampler = SimulatedAnnealingSampler()\n",
    "\n",
    "# Solve both problems using 1000 different samples each\n",
    "sampleset_1 = sampler.sample_qubo(qubo_dict_1, num_reads=1000) \n",
    "sampleset_2 = sampler.sample_qubo(qubo_dict_2, num_reads=1000)\n",
    "\n",
    "# Extract solution matrices and compute decomposition error\n",
    "U_1, V_1 = qBMF.extract_U_V(sampleset_1, m, n, r)\n",
    "U_2, V_2 = qBMF.extract_U_V(sampleset_2, m, n, r)\n",
    "er_1 = np.linalg.norm(A - U_1 @ np.transpose(V_1))**2\n",
    "er_2 = np.linalg.norm(A - U_2 @ np.transpose(V_2))**2\n",
    "\n",
    "# Print results\n",
    "print(\"Squared Frobenius Norm of A: {}\".format(np.linalg.norm(A)**2))\n",
    "print(\"Best Energy 1st Formulation: {}\".format(sampleset_1.first.energy))\n",
    "print(\"Best Energy 2nd Formulation: {}\".format(sampleset_2.first.energy))\n",
    "print(\"Factorization Error 1st Formulation: {}\".format(er_1))\n",
    "print(\"Factorization Error 2nd Formulation: {}\".format(er_2))\n"
   ]
  },
  {
   "attachments": {},
   "cell_type": "markdown",
   "metadata": {},
   "source": [
    "Next, we try solving the problem using the quantum annealer."
   ]
  },
  {
   "cell_type": "code",
   "execution_count": 19,
   "metadata": {},
   "outputs": [
    {
     "name": "stdout",
     "output_type": "stream",
     "text": [
      "QPU Advantage_system4.1 was selected\n",
      "Squared Frobenius Norm of A: 30.0\n",
      "Best Energy 1st Formulation: -4.0\n",
      "Best Energy 2nd Formulation: -96.0\n",
      "Factorization Error 1st Formulation: 22.0\n",
      "Factorization Error 2nd Formulation: 559.0\n"
     ]
    }
   ],
   "source": [
    "import dimod\n",
    "\n",
    "# Compute QUBO in dimod.BQM format\n",
    "qubo_bqm_1 = qBMF.construct_BMF_BQM(A, r=r, lam=lam, format=\"bqm\", formulation=1)\n",
    "qubo_bqm_2 = qBMF.construct_BMF_BQM(A, r=r, lam=lam, format=\"bqm\", formulation=2)\n",
    "\n",
    "# Prepare quantum sampler\n",
    "sampler = DWaveSampler()\n",
    "embedding_sampler = EmbeddingComposite(sampler)\n",
    "print(\"QPU {} was selected\".format(sampler.solver.name))\n",
    "\n",
    "sampleset_1 = embedding_sampler.sample(qubo_bqm_1, num_reads=1000, \\\n",
    "    label=\"QUBO BMF (Lrg) formul 1\")\n",
    "sampleset_2 = embedding_sampler.sample(qubo_bqm_2, num_reads=1000, \\\n",
    "    label=\"QUBO BMF (Lrg) formul 2\")\n",
    "\n",
    "# Extract solution matrices and compute decomposition error\n",
    "U_1, V_1 = qBMF.extract_U_V(sampleset_1, m, n, r)\n",
    "U_2, V_2 = qBMF.extract_U_V(sampleset_2, m, n, r)\n",
    "er_1 = np.linalg.norm(A - U_1 @ np.transpose(V_1))**2\n",
    "er_2 = np.linalg.norm(A - U_2 @ np.transpose(V_2))**2\n",
    "\n",
    "# Print results\n",
    "print(\"Squared Frobenius Norm of A: {}\".format(np.linalg.norm(A)**2))\n",
    "print(\"Best Energy 1st Formulation: {}\".format(sampleset_1.first.energy))\n",
    "print(\"Best Energy 2nd Formulation: {}\".format(sampleset_2.first.energy))\n",
    "print(\"Factorization Error 1st Formulation: {}\".format(er_1))\n",
    "print(\"Factorization Error 2nd Formulation: {}\".format(er_2))\n"
   ]
  },
  {
   "attachments": {},
   "cell_type": "markdown",
   "metadata": {},
   "source": [
    "Finally, we also try using one of D-Wave's hybrid solvers to tackle the problem."
   ]
  },
  {
   "cell_type": "code",
   "execution_count": 20,
   "metadata": {},
   "outputs": [
    {
     "name": "stdout",
     "output_type": "stream",
     "text": [
      "Squared Frobenius Norm of A: 30.0\n",
      "Best Energy 1st Formulation: -30.0\n",
      "Best Energy 2nd Formulation: -134.0\n",
      "Factorization Error 1st Formulation: 0.0\n",
      "Factorization Error 2nd Formulation: 527.0000000000001\n"
     ]
    }
   ],
   "source": [
    "from dwave.system import LeapHybridSampler\n",
    "\n",
    "sampler_hybrid = LeapHybridSampler()\n",
    "sampleset_1 = sampler_hybrid.sample(qubo_bqm_1)\n",
    "sampleset_2 = sampler_hybrid.sample(qubo_bqm_2)\n",
    "\n",
    "# Extract solution matrices and compute decomposition error\n",
    "U_1, V_1 = qBMF.extract_U_V(sampleset_1, m, n, r)\n",
    "U_2, V_2 = qBMF.extract_U_V(sampleset_2, m, n, r)\n",
    "er_1 = np.linalg.norm(A - U_1 @ np.transpose(V_1))**2\n",
    "er_2 = np.linalg.norm(A - U_2 @ np.transpose(V_2))**2\n",
    "\n",
    "# Print results\n",
    "print(\"Squared Frobenius Norm of A: {}\".format(np.linalg.norm(A)**2))\n",
    "print(\"Best Energy 1st Formulation: {}\".format(sampleset_1.first.energy))\n",
    "print(\"Best Energy 2nd Formulation: {}\".format(sampleset_2.first.energy))\n",
    "print(\"Factorization Error 1st Formulation: {}\".format(er_1))\n",
    "print(\"Factorization Error 2nd Formulation: {}\".format(er_2))"
   ]
  },
  {
   "attachments": {},
   "cell_type": "markdown",
   "metadata": {},
   "source": [
    "Running the code above a few times, it seems like the simulated annealing and \n",
    "hybrid solvers frequently find an exact zero-error decomposition of $A$ when\n",
    "the first formulation is used. The second formulations seems to yield worse \n",
    "results for all three solvers. The purely quantum based solver seems to perform\n",
    "worse than the two other samplers. "
   ]
  },
  {
   "attachments": {},
   "cell_type": "markdown",
   "metadata": {},
   "source": [
    "## References\n",
    "\n",
    "O. A. Malik, H. Ushijima-Mwesigwa, A. Roy, A. Mandal, I. Ghosh. \n",
    "Binary matrix factorization on special purpose hardware. PLOS \n",
    "ONE 16(12): e0261250, 2021. DOI: \n",
    "[10.1371/journal.pone.0261250](https://doi.org/10.1371/journal.pone.0261250)"
   ]
  }
 ],
 "metadata": {
  "kernelspec": {
   "display_name": "base",
   "language": "python",
   "name": "python3"
  },
  "language_info": {
   "codemirror_mode": {
    "name": "ipython",
    "version": 3
   },
   "file_extension": ".py",
   "mimetype": "text/x-python",
   "name": "python",
   "nbconvert_exporter": "python",
   "pygments_lexer": "ipython3",
   "version": "3.9.13"
  },
  "orig_nbformat": 4,
  "vscode": {
   "interpreter": {
    "hash": "631c9ff9e0dc1ca65adc71331131027f22576ba1e675f649c41a943546861c46"
   }
  }
 },
 "nbformat": 4,
 "nbformat_minor": 2
}
